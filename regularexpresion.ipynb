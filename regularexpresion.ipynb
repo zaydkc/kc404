{
  "nbformat": 4,
  "nbformat_minor": 0,
  "metadata": {
    "colab": {
      "provenance": []
    },
    "kernelspec": {
      "name": "python3",
      "display_name": "Python 3"
    },
    "language_info": {
      "name": "python"
    }
  },
  "cells": [
    {
      "cell_type": "markdown",
      "source": [
        "regular expresion"
      ],
      "metadata": {
        "id": "2Bn0zmX3BKZ0"
      }
    },
    {
      "cell_type": "code",
      "source": [
        "import re\n",
        "def text_match(text):\n",
        "  patterns='[A-Z]+[a-z]'\n",
        "  if re.search(patterns,text):\n",
        "    return \"found a match\"\n",
        "  else:\n",
        "    return(\"not match!\")\n",
        "print(text_match('AaBbCc'))\n",
        "print(text_match('PYTHON'))\n",
        "print(text_match('aA'))\n",
        "print(text_match('Rr'))"
      ],
      "metadata": {
        "colab": {
          "base_uri": "https://localhost:8080/"
        },
        "id": "eFWINIHV8C7H",
        "outputId": "fe20d9ad-d4e3-4677-ae23-14601d55f1a1"
      },
      "execution_count": 18,
      "outputs": [
        {
          "output_type": "stream",
          "name": "stdout",
          "text": [
            "found a match\n",
            "not match!\n",
            "not match!\n",
            "found a match\n"
          ]
        }
      ]
    }
  ]
}