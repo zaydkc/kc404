{
  "nbformat": 4,
  "nbformat_minor": 0,
  "metadata": {
    "colab": {
      "provenance": []
    },
    "kernelspec": {
      "name": "python3",
      "display_name": "Python 3"
    },
    "language_info": {
      "name": "python"
    }
  },
  "cells": [
    {
      "cell_type": "markdown",
      "source": [
        "object and class"
      ],
      "metadata": {
        "id": "Gl-dHEOd6HoZ"
      }
    },
    {
      "cell_type": "code",
      "source": [
        "class Room:\n",
        "    length = 0.0\n",
        "    breadth = 0.0\n",
        "    def calculate_area(self):\n",
        "        print(\"Area of Room:\", self.length * self.breadth)\n",
        "study_room = Room()\n",
        "study_room.length = 42.5\n",
        "study_room.breadth = 30.8\n",
        "study_room.calculate_area()"
      ],
      "metadata": {
        "colab": {
          "base_uri": "https://localhost:8080/"
        },
        "id": "jE_n8taP6DeF",
        "outputId": "9244186a-58bd-4d96-9b4f-81d8c9235049"
      },
      "execution_count": 10,
      "outputs": [
        {
          "output_type": "stream",
          "name": "stdout",
          "text": [
            "Area of Room: 1309.0\n"
          ]
        }
      ]
    }
  ]
}