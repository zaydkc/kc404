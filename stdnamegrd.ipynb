{
  "nbformat": 4,
  "nbformat_minor": 0,
  "metadata": {
    "colab": {
      "provenance": []
    },
    "kernelspec": {
      "name": "python3",
      "display_name": "Python 3"
    },
    "language_info": {
      "name": "python"
    }
  },
  "cells": [
    {
      "cell_type": "markdown",
      "source": [
        "student name and grade"
      ],
      "metadata": {
        "id": "vpd29fQU3z0n"
      }
    },
    {
      "cell_type": "code",
      "execution_count": 1,
      "metadata": {
        "id": "caJaOrqBxrIV",
        "colab": {
          "base_uri": "https://localhost:8080/"
        },
        "outputId": "2b49657e-a722-4b9e-bfbb-b3349d4da850"
      },
      "outputs": [
        {
          "output_type": "stream",
          "name": "stdout",
          "text": [
            "original dictionary\n",
            "{'meena': [50, 60, 70, 80, 90], 'shameem': [90, 92, 94, 96, 98], 'amjed': [51, 62, 73, 84, 95]}\n",
            "enter name of studentmeena\n",
            "[50, 60, 70, 80, 90]\n"
          ]
        }
      ],
      "source": [
        "student_data={\"meena\":[50,60,70,80,90],\"shameem\":[90,92,94,96,98],\"amjed\":[51,62,73,84,95]}\n",
        "print(\"original dictionary\")\n",
        "print(student_data)\n",
        "name=input(\"enter name of student\")\n",
        "if name in student_data.keys():\n",
        "  print(student_data[name])\n",
        "else:\n",
        "  print(\"no student found\")"
      ]
    }
  ]
}